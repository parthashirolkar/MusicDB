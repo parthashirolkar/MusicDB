{
 "cells": [
  {
   "cell_type": "code",
   "execution_count": 18,
   "metadata": {},
   "outputs": [],
   "source": [
    "import os\n",
    "import math\n",
    "from tqdm.auto import tqdm\n",
    "import numpy as np\n",
    "import pandas as pd\n",
    "from multiprocessing import Pool, cpu_count\n",
    "import matplotlib.pyplot as plt\n",
    "from sklearn.model_selection import train_test_split\n",
    "import librosa\n",
    "\n",
    "\n",
    "from torch.utils.data import Dataset, DataLoader, random_split\n",
    "import torch\n",
    "from models import Encoder, Decoder, BiLSTMSeq2Seq\n",
    "import torch.nn as nn\n",
    "import torch.nn.functional as F\n",
    "from torch.nn.utils.rnn import pad_sequence"
   ]
  },
  {
   "cell_type": "code",
   "execution_count": 15,
   "metadata": {},
   "outputs": [],
   "source": [
    "device = \"cuda\" if torch.cuda.is_available() else \"cpu\""
   ]
  },
  {
   "cell_type": "code",
   "execution_count": 3,
   "metadata": {},
   "outputs": [
    {
     "data": {
      "application/vnd.jupyter.widget-view+json": {
       "model_id": "1bc70635ca0245209c4d799d08453b18",
       "version_major": 2,
       "version_minor": 0
      },
      "text/plain": [
       "  0%|          | 0/285 [00:00<?, ?it/s]"
      ]
     },
     "metadata": {},
     "output_type": "display_data"
    }
   ],
   "source": [
    "def preprocess_music(file_path, n_mfcc=50):\n",
    "    y, sr = librosa.load(file_path, sr=None)\n",
    "    mfcc = librosa.feature.mfcc(y=y, sr=sr, n_mfcc=n_mfcc)\n",
    "    mfcc = librosa.util.normalize(mfcc)\n",
    "    return mfcc.T\n",
    "\n",
    "\n",
    "def process_file(file):\n",
    "    return preprocess_music(os.path.join(base_path, file))\n",
    "\n",
    "\n",
    "base_path = \"music_files\"\n",
    "file_list = [file for file in os.listdir(base_path) if file.endswith(\".mp3\")]\n",
    "\n",
    "num_workers = min(cpu_count(), len(file_list))\n",
    "\n",
    "\n",
    "with Pool(num_workers) as pool:\n",
    "    mfccs = list(tqdm(pool.imap(process_file, file_list), total=len(file_list)))\n"
   ]
  },
  {
   "cell_type": "code",
   "execution_count": 7,
   "metadata": {},
   "outputs": [],
   "source": [
    "def pad_and_truncate_sequences(sequences, maxlen, padding_value=0.0):\n",
    "    \"\"\"\n",
    "    Pads and truncates sequences to the specified maximum length.\n",
    "\n",
    "    Args:\n",
    "        sequences (list of tensors): List of variable-length sequences (each is a 1D tensor).\n",
    "        maxlen (int): Maximum length to pad or truncate to.\n",
    "        padding_value (float): Value used for padding (default is 0.0).\n",
    "\n",
    "    Returns:\n",
    "        Tensor: Padded and truncated tensor with shape (batch_size, maxlen, feature_dim).\n",
    "    \"\"\"\n",
    "    # Convert list of sequences to a batch tensor using pad_sequence\n",
    "    padded_sequences = pad_sequence(sequences, batch_first=True, padding_value=padding_value)\n",
    "\n",
    "    # Truncate sequences if they exceed maxlen\n",
    "    if padded_sequences.size(1) > maxlen:\n",
    "        padded_sequences = padded_sequences[:, :maxlen, :]\n",
    "    # Pad sequences to maxlen if they are shorter\n",
    "    elif padded_sequences.size(1) < maxlen:\n",
    "        # Create a tensor of shape (batch_size, maxlen, feature_dim) filled with padding_value\n",
    "        pad_shape = (padded_sequences.size(0), maxlen - padded_sequences.size(1), padded_sequences.size(2))\n",
    "        padding = torch.full(pad_shape, padding_value)\n",
    "        padded_sequences = torch.cat([padded_sequences, padding], dim=1)\n",
    "\n",
    "    return padded_sequences"
   ]
  },
  {
   "cell_type": "code",
   "execution_count": 10,
   "metadata": {},
   "outputs": [],
   "source": [
    "mfccs_tensors = [torch.tensor(seq, dtype=torch.float32) for seq in mfccs]\n",
    "mfccs_padded = pad_and_truncate_sequences(mfccs_tensors, maxlen=5000)"
   ]
  },
  {
   "cell_type": "code",
   "execution_count": 12,
   "metadata": {},
   "outputs": [
    {
     "data": {
      "text/plain": [
       "torch.Size([285, 5000, 50])"
      ]
     },
     "execution_count": 12,
     "metadata": {},
     "output_type": "execute_result"
    }
   ],
   "source": [
    "mfccs_padded.shape"
   ]
  },
  {
   "cell_type": "code",
   "execution_count": 16,
   "metadata": {},
   "outputs": [],
   "source": [
    "model = BiLSTMSeq2Seq(input_dim=50, hidden_dim_1=64, hidden_dim_2=256).to(device)"
   ]
  },
  {
   "cell_type": "code",
   "execution_count": 19,
   "metadata": {},
   "outputs": [],
   "source": [
    "class MFCCDataset(Dataset):\n",
    "    def __init__(self, data):\n",
    "        \"\"\"\n",
    "        Custom Dataset for MFCC data.\n",
    "\n",
    "        Args:\n",
    "            data (Tensor): The input data tensor of shape (num_samples, ...).\n",
    "        \"\"\"\n",
    "        self.data = data\n",
    "\n",
    "    def __len__(self):\n",
    "        return len(self.data)\n",
    "\n",
    "    def __getitem__(self, idx):\n",
    "        input_stream = self.data[idx]\n",
    "        output_stream = self.data[idx]  # For simplicity, return the same data for both inputs and outputs\n",
    "        return input_stream, output_stream"
   ]
  },
  {
   "cell_type": "code",
   "execution_count": 20,
   "metadata": {},
   "outputs": [],
   "source": [
    "def create_dataloaders(data, batch_size=32, test_size=0.2, val_size=0.5, random_state=42):\n",
    "    \"\"\"\n",
    "    Creates training, validation, and test dataloaders.\n",
    "\n",
    "    Args:\n",
    "        data (Tensor): The input data tensor.\n",
    "        batch_size (int): Batch size for the dataloaders.\n",
    "        test_size (float): Proportion of the data to include in the test set.\n",
    "        val_size (float): Proportion of the remaining data to include in the validation set.\n",
    "        random_state (int): Random seed for reproducibility.\n",
    "\n",
    "    Returns:\n",
    "        tuple: (train_loader, val_loader, test_loader)\n",
    "    \"\"\"\n",
    "    \n",
    "    dataset = MFCCDataset(data)\n",
    "    \n",
    "    \n",
    "    num_samples = len(dataset)\n",
    "    test_len = int(num_samples * test_size)\n",
    "    remaining_len = num_samples - test_len\n",
    "    val_len = int(remaining_len * val_size)\n",
    "    train_len = remaining_len - val_len\n",
    "    \n",
    "    \n",
    "    train_dataset, val_dataset, test_dataset = random_split(\n",
    "        dataset,\n",
    "        [train_len, val_len, test_len],\n",
    "        generator=torch.Generator().manual_seed(random_state)\n",
    "    )\n",
    "    \n",
    "    \n",
    "    train_loader = DataLoader(train_dataset, batch_size=batch_size, shuffle=True)\n",
    "    val_loader = DataLoader(val_dataset, batch_size=batch_size, shuffle=False)\n",
    "    test_loader = DataLoader(test_dataset, batch_size=batch_size, shuffle=False)\n",
    "    \n",
    "    return train_loader, val_loader, test_loader"
   ]
  },
  {
   "cell_type": "code",
   "execution_count": 21,
   "metadata": {},
   "outputs": [],
   "source": [
    "train_loader, val_loader, test_loader = create_dataloaders(mfccs_padded, batch_size=8, test_size=0.2, val_size=0.5, random_state=42)"
   ]
  },
  {
   "cell_type": "code",
   "execution_count": 26,
   "metadata": {},
   "outputs": [],
   "source": [
    "criterion = nn.MSELoss()\n",
    "optimizer = torch.optim.Adam(model.parameters(), lr=0.0001)"
   ]
  },
  {
   "cell_type": "code",
   "execution_count": 31,
   "metadata": {},
   "outputs": [
    {
     "data": {
      "application/vnd.jupyter.widget-view+json": {
       "model_id": "36e5b56a88044c1bbcd00051b75c788f",
       "version_major": 2,
       "version_minor": 0
      },
      "text/plain": [
       "Epoch 1/10 - Training:   0%|          | 0/15 [00:00<?, ?batch/s]"
      ]
     },
     "metadata": {},
     "output_type": "display_data"
    },
    {
     "data": {
      "application/vnd.jupyter.widget-view+json": {
       "model_id": "2f545d2d8c594d90bc2c6d48375b1481",
       "version_major": 2,
       "version_minor": 0
      },
      "text/plain": [
       "Epoch 1/10 - Validation:   0%|          | 0/15 [00:00<?, ?batch/s]"
      ]
     },
     "metadata": {},
     "output_type": "display_data"
    },
    {
     "data": {
      "application/vnd.jupyter.widget-view+json": {
       "model_id": "bfa40479ee4342a191f7243bd41ff5de",
       "version_major": 2,
       "version_minor": 0
      },
      "text/plain": [
       "Epoch 2/10 - Training:   0%|          | 0/15 [00:00<?, ?batch/s]"
      ]
     },
     "metadata": {},
     "output_type": "display_data"
    },
    {
     "data": {
      "application/vnd.jupyter.widget-view+json": {
       "model_id": "4da319537fd2434b8216b1be30e4d01b",
       "version_major": 2,
       "version_minor": 0
      },
      "text/plain": [
       "Epoch 2/10 - Validation:   0%|          | 0/15 [00:00<?, ?batch/s]"
      ]
     },
     "metadata": {},
     "output_type": "display_data"
    },
    {
     "data": {
      "application/vnd.jupyter.widget-view+json": {
       "model_id": "0dd68c56859e440fa0e8b8fb2777fcac",
       "version_major": 2,
       "version_minor": 0
      },
      "text/plain": [
       "Epoch 3/10 - Training:   0%|          | 0/15 [00:00<?, ?batch/s]"
      ]
     },
     "metadata": {},
     "output_type": "display_data"
    },
    {
     "data": {
      "application/vnd.jupyter.widget-view+json": {
       "model_id": "2331c239511b4bda841593205bbadae7",
       "version_major": 2,
       "version_minor": 0
      },
      "text/plain": [
       "Epoch 3/10 - Validation:   0%|          | 0/15 [00:00<?, ?batch/s]"
      ]
     },
     "metadata": {},
     "output_type": "display_data"
    },
    {
     "data": {
      "application/vnd.jupyter.widget-view+json": {
       "model_id": "79270f0a5c814a80b49a402edf8bd63d",
       "version_major": 2,
       "version_minor": 0
      },
      "text/plain": [
       "Epoch 4/10 - Training:   0%|          | 0/15 [00:00<?, ?batch/s]"
      ]
     },
     "metadata": {},
     "output_type": "display_data"
    },
    {
     "data": {
      "application/vnd.jupyter.widget-view+json": {
       "model_id": "7e23d05ff5d94d538fe031e2e8f8b54c",
       "version_major": 2,
       "version_minor": 0
      },
      "text/plain": [
       "Epoch 4/10 - Validation:   0%|          | 0/15 [00:00<?, ?batch/s]"
      ]
     },
     "metadata": {},
     "output_type": "display_data"
    },
    {
     "data": {
      "application/vnd.jupyter.widget-view+json": {
       "model_id": "fb617d43a43143e3ba5e1905e99a02e5",
       "version_major": 2,
       "version_minor": 0
      },
      "text/plain": [
       "Epoch 5/10 - Training:   0%|          | 0/15 [00:00<?, ?batch/s]"
      ]
     },
     "metadata": {},
     "output_type": "display_data"
    },
    {
     "data": {
      "application/vnd.jupyter.widget-view+json": {
       "model_id": "10c92a3642c14e4385d42185811daf49",
       "version_major": 2,
       "version_minor": 0
      },
      "text/plain": [
       "Epoch 5/10 - Validation:   0%|          | 0/15 [00:00<?, ?batch/s]"
      ]
     },
     "metadata": {},
     "output_type": "display_data"
    },
    {
     "data": {
      "application/vnd.jupyter.widget-view+json": {
       "model_id": "d2b142b8604d425fb42353db4155a5d3",
       "version_major": 2,
       "version_minor": 0
      },
      "text/plain": [
       "Epoch 6/10 - Training:   0%|          | 0/15 [00:00<?, ?batch/s]"
      ]
     },
     "metadata": {},
     "output_type": "display_data"
    },
    {
     "data": {
      "application/vnd.jupyter.widget-view+json": {
       "model_id": "72cb43de1bc44fc989266b22e06c7dcd",
       "version_major": 2,
       "version_minor": 0
      },
      "text/plain": [
       "Epoch 6/10 - Validation:   0%|          | 0/15 [00:00<?, ?batch/s]"
      ]
     },
     "metadata": {},
     "output_type": "display_data"
    },
    {
     "data": {
      "application/vnd.jupyter.widget-view+json": {
       "model_id": "fd2754263f284094974a6b3c051039bc",
       "version_major": 2,
       "version_minor": 0
      },
      "text/plain": [
       "Epoch 7/10 - Training:   0%|          | 0/15 [00:00<?, ?batch/s]"
      ]
     },
     "metadata": {},
     "output_type": "display_data"
    },
    {
     "data": {
      "application/vnd.jupyter.widget-view+json": {
       "model_id": "a021881aeccb4bdb98693152b1b15b02",
       "version_major": 2,
       "version_minor": 0
      },
      "text/plain": [
       "Epoch 7/10 - Validation:   0%|          | 0/15 [00:00<?, ?batch/s]"
      ]
     },
     "metadata": {},
     "output_type": "display_data"
    },
    {
     "data": {
      "application/vnd.jupyter.widget-view+json": {
       "model_id": "cd0d7f76be254a12942e2453ad0c4ca6",
       "version_major": 2,
       "version_minor": 0
      },
      "text/plain": [
       "Epoch 8/10 - Training:   0%|          | 0/15 [00:00<?, ?batch/s]"
      ]
     },
     "metadata": {},
     "output_type": "display_data"
    },
    {
     "data": {
      "application/vnd.jupyter.widget-view+json": {
       "model_id": "cde02556c0974ef686a87b1adf9cc109",
       "version_major": 2,
       "version_minor": 0
      },
      "text/plain": [
       "Epoch 8/10 - Validation:   0%|          | 0/15 [00:00<?, ?batch/s]"
      ]
     },
     "metadata": {},
     "output_type": "display_data"
    },
    {
     "data": {
      "application/vnd.jupyter.widget-view+json": {
       "model_id": "ea37db91a7b743b382ac85490f49e865",
       "version_major": 2,
       "version_minor": 0
      },
      "text/plain": [
       "Epoch 9/10 - Training:   0%|          | 0/15 [00:00<?, ?batch/s]"
      ]
     },
     "metadata": {},
     "output_type": "display_data"
    },
    {
     "data": {
      "application/vnd.jupyter.widget-view+json": {
       "model_id": "799d575c651a42df9c17c62484319ed7",
       "version_major": 2,
       "version_minor": 0
      },
      "text/plain": [
       "Epoch 9/10 - Validation:   0%|          | 0/15 [00:00<?, ?batch/s]"
      ]
     },
     "metadata": {},
     "output_type": "display_data"
    },
    {
     "data": {
      "application/vnd.jupyter.widget-view+json": {
       "model_id": "a46c6eafb0114599a30bd718df14c3da",
       "version_major": 2,
       "version_minor": 0
      },
      "text/plain": [
       "Epoch 10/10 - Training:   0%|          | 0/15 [00:00<?, ?batch/s]"
      ]
     },
     "metadata": {},
     "output_type": "display_data"
    },
    {
     "data": {
      "application/vnd.jupyter.widget-view+json": {
       "model_id": "736b5ca160b24bd5a907d3edfb5e678e",
       "version_major": 2,
       "version_minor": 0
      },
      "text/plain": [
       "Epoch 10/10 - Validation:   0%|          | 0/15 [00:00<?, ?batch/s]"
      ]
     },
     "metadata": {},
     "output_type": "display_data"
    }
   ],
   "source": [
    "n_epochs = 10\n",
    "\n",
    "train_loss = []\n",
    "val_loss = []\n",
    "\n",
    "for epoch in range(n_epochs):\n",
    "    model.train()\n",
    "    running_train_loss = 0.0\n",
    "    num_train_batches = len(train_loader)\n",
    "    \n",
    "    \n",
    "    with tqdm(total=num_train_batches, desc=f\"Epoch {epoch+1}/{n_epochs} - Training\", unit=\"batch\") as pbar:\n",
    "        for in_stream, out_stream in train_loader:\n",
    "            in_stream = in_stream.to(device)\n",
    "            out_stream = out_stream.to(device)\n",
    "            optimizer.zero_grad()\n",
    "            outputs = model(in_stream)\n",
    "            loss = criterion(outputs, out_stream)\n",
    "            loss.backward()\n",
    "            optimizer.step()\n",
    "            \n",
    "            \n",
    "            running_train_loss += loss.item()\n",
    "            \n",
    "            \n",
    "            pbar.set_postfix({\"Loss\": running_train_loss / (pbar.n + 1)})\n",
    "            pbar.update(1)\n",
    "    \n",
    "    \n",
    "    avg_train_loss = running_train_loss / num_train_batches\n",
    "    train_loss.append(avg_train_loss)\n",
    "\n",
    "    model.eval()\n",
    "    running_val_loss = 0.0\n",
    "    num_val_batches = len(val_loader)\n",
    "    \n",
    "    \n",
    "    with tqdm(total=num_val_batches, desc=f\"Epoch {epoch+1}/{n_epochs} - Validation\", unit=\"batch\") as pbar:\n",
    "        with torch.no_grad():\n",
    "            for in_stream, out_stream in val_loader:\n",
    "                in_stream = in_stream.to(device)\n",
    "                out_stream = out_stream.to(device)\n",
    "                outputs = model(in_stream)\n",
    "                loss = criterion(outputs, out_stream)\n",
    "                \n",
    "                \n",
    "                running_val_loss += loss.item()\n",
    "                \n",
    "                \n",
    "                pbar.set_postfix({\"Loss\": running_val_loss / (pbar.n + 1)})\n",
    "                pbar.update(1)\n",
    "\n",
    "\n",
    "    avg_val_loss = running_val_loss / num_val_batches\n",
    "    val_loss.append(avg_val_loss)"
   ]
  },
  {
   "cell_type": "code",
   "execution_count": 32,
   "metadata": {},
   "outputs": [],
   "source": [
    "metrics_df = pd.DataFrame({\n",
    "    \"train_loss\": train_loss,\n",
    "    \"val_loss\": val_loss\n",
    "})"
   ]
  },
  {
   "cell_type": "code",
   "execution_count": 33,
   "metadata": {},
   "outputs": [
    {
     "data": {
      "text/plain": [
       "<Axes: >"
      ]
     },
     "execution_count": 33,
     "metadata": {},
     "output_type": "execute_result"
    },
    {
     "data": {
      "image/png": "[encoded data removed]",
      "text/plain": [
       "<Figure size 640x480 with 1 Axes>"
      ]
     },
     "metadata": {},
     "output_type": "display_data"
    }
   ],
   "source": [
    "metrics_df.plot()"
   ]
  },
  {
   "cell_type": "code",
   "execution_count": 35,
   "metadata": {},
   "outputs": [
    {
     "name": "stdout",
     "output_type": "stream",
     "text": [
      "0.005754441488534212\n",
      "0.0056703584268689156\n",
      "0.004259736742824316\n",
      "0.0036452875938266516\n",
      "0.005850089713931084\n",
      "0.004450741223990917\n",
      "0.003381385700777173\n",
      "0.0035644061863422394\n"
     ]
    }
   ],
   "source": [
    "test_loss = []\n",
    "model.eval()\n",
    "for in_stream, out_stream in test_loader:\n",
    "    in_stream = in_stream.to(device)\n",
    "    out_stream = out_stream.to(device)\n",
    "    with torch.no_grad():\n",
    "        pred = model(in_stream)  \n",
    "    loss = criterion(pred, out_stream)\n",
    "    test_loss.append(loss.item())\n",
    "    print(loss.item())"
   ]
  },
  {
   "cell_type": "code",
   "execution_count": 42,
   "metadata": {},
   "outputs": [],
   "source": [
    "torch.save(model.state_dict(), 'model_weights.pth')"
   ]
  },
  {
   "cell_type": "code",
   "execution_count": null,
   "metadata": {},
   "outputs": [],
   "source": []
  }
 ],
 "metadata": {
  "kernelspec": {
   "display_name": "vdbase",
   "language": "python",
   "name": "python3"
  },
  "language_info": {
   "codemirror_mode": {
    "name": "ipython",
    "version": 3
   },
   "file_extension": ".py",
   "mimetype": "text/x-python",
   "name": "python",
   "nbconvert_exporter": "python",
   "pygments_lexer": "ipython3",
   "version": "3.10.13"
  }
 },
 "nbformat": 4,
 "nbformat_minor": 2
}
